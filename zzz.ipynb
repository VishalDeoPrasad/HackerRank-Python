{
 "cells": [
  {
   "cell_type": "code",
   "execution_count": 5,
   "metadata": {},
   "outputs": [
    {
     "data": {
      "text/plain": [
       "19"
      ]
     },
     "execution_count": 5,
     "metadata": {},
     "output_type": "execute_result"
    }
   ],
   "source": [
    "ord('t')-97"
   ]
  },
  {
   "cell_type": "code",
   "execution_count": 6,
   "metadata": {},
   "outputs": [
    {
     "name": "stdout",
     "output_type": "stream",
     "text": [
      "1\n"
     ]
    }
   ],
   "source": [
    "def countingValleys(n, s):\n",
    "    seaLevel = 0\n",
    "    valleys = 0\n",
    "    for i in range(n):\n",
    "        if s[i] == \"U\":\n",
    "            seaLevel+=1\n",
    "        if s[i] == \"D\":\n",
    "            seaLevel-=1\n",
    "\n",
    "        if seaLevel == 0 and s[i]==\"U\":\n",
    "            valleys+=1\n",
    "\n",
    "    return valleys\n",
    "path = ['U','D','D','D','U','D','U','U']\n",
    "print(countingValleys(8, path))"
   ]
  },
  {
   "cell_type": "code",
   "execution_count": null,
   "metadata": {},
   "outputs": [],
   "source": [
    "seaLevel = 0\n",
    "valleys = 0\n"
   ]
  },
  {
   "cell_type": "code",
   "execution_count": 8,
   "metadata": {},
   "outputs": [
    {
     "name": "stdout",
     "output_type": "stream",
     "text": [
      "0\n"
     ]
    }
   ],
   "source": [
    "def countingValleys(n, s):\n",
    "    seaLevel = 0\n",
    "    valleys = 0\n",
    "    [seaLevel := seaLevel+1 for i in range(n) if s[i] == \"U\" ]\n",
    "    return valleys\n",
    "path = ['U','D','D','D','U','D','U','U']\n",
    "print(countingValleys(8, path))"
   ]
  },
  {
   "cell_type": "code",
   "execution_count": 4,
   "metadata": {},
   "outputs": [
    {
     "data": {
      "text/plain": [
       "654321"
      ]
     },
     "execution_count": 4,
     "metadata": {},
     "output_type": "execute_result"
    }
   ],
   "source": [
    "num = 123456\n",
    "num1= int(str(num)[::-1])\n",
    "num1\n"
   ]
  },
  {
   "cell_type": "code",
   "execution_count": 7,
   "metadata": {},
   "outputs": [
    {
     "data": {
      "text/plain": [
       "']6 ,5 ,4 ,3 ,2 ,1['"
      ]
     },
     "execution_count": 7,
     "metadata": {},
     "output_type": "execute_result"
    }
   ],
   "source": [
    "num = [1,2,3,4,5,6]\n",
    "num1= str(num)[::-1]\n",
    "num1\n"
   ]
  },
  {
   "cell_type": "code",
   "execution_count": 9,
   "metadata": {},
   "outputs": [],
   "source": [
    "def mySqrt(x):\n",
    "        \"\"\"\n",
    "        :type x: int\n",
    "        :rtype: int\n",
    "        \"\"\"\n",
    "        L, R = 1, x\n",
    "        while L <= R:\n",
    "            mid = L + (R-L)//2\n",
    "            if mid*mid > x:\n",
    "                R = mid-1\n",
    "            elif mid*mid < x:\n",
    "                L = mid + 1\n",
    "            else:\n",
    "                return mid\n",
    "        return R"
   ]
  },
  {
   "cell_type": "code",
   "execution_count": 8,
   "metadata": {},
   "outputs": [
    {
     "data": {
      "text/plain": [
       "3"
      ]
     },
     "execution_count": 8,
     "metadata": {},
     "output_type": "execute_result"
    }
   ],
   "source": [
    "mySqrt(9)"
   ]
  },
  {
   "cell_type": "code",
   "execution_count": null,
   "metadata": {},
   "outputs": [],
   "source": []
  }
 ],
 "metadata": {
  "kernelspec": {
   "display_name": "Python 3",
   "language": "python",
   "name": "python3"
  },
  "language_info": {
   "codemirror_mode": {
    "name": "ipython",
    "version": 3
   },
   "file_extension": ".py",
   "mimetype": "text/x-python",
   "name": "python",
   "nbconvert_exporter": "python",
   "pygments_lexer": "ipython3",
   "version": "3.10.9"
  },
  "orig_nbformat": 4,
  "vscode": {
   "interpreter": {
    "hash": "f8048d823ac758c079b9f29ef30bbbc9b1138746b4add2d8fb5759ec4a242e2c"
   }
  }
 },
 "nbformat": 4,
 "nbformat_minor": 2
}
