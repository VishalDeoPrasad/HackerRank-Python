{
 "cells": [
  {
   "cell_type": "code",
   "execution_count": 5,
   "metadata": {},
   "outputs": [
    {
     "data": {
      "text/plain": [
       "19"
      ]
     },
     "execution_count": 5,
     "metadata": {},
     "output_type": "execute_result"
    }
   ],
   "source": [
    "ord('t')-97"
   ]
  },
  {
   "cell_type": "code",
   "execution_count": 6,
   "metadata": {},
   "outputs": [
    {
     "name": "stdout",
     "output_type": "stream",
     "text": [
      "1\n"
     ]
    }
   ],
   "source": [
    "def countingValleys(n, s):\n",
    "    seaLevel = 0\n",
    "    valleys = 0\n",
    "    for i in range(n):\n",
    "        if s[i] == \"U\":\n",
    "            seaLevel+=1\n",
    "        if s[i] == \"D\":\n",
    "            seaLevel-=1\n",
    "\n",
    "        if seaLevel == 0 and s[i]==\"U\":\n",
    "            valleys+=1\n",
    "\n",
    "    return valleys\n",
    "path = ['U','D','D','D','U','D','U','U']\n",
    "print(countingValleys(8, path))"
   ]
  },
  {
   "cell_type": "code",
   "execution_count": null,
   "metadata": {},
   "outputs": [],
   "source": [
    "seaLevel = 0\n",
    "valleys = 0\n"
   ]
  },
  {
   "cell_type": "code",
   "execution_count": 8,
   "metadata": {},
   "outputs": [
    {
     "name": "stdout",
     "output_type": "stream",
     "text": [
      "0\n"
     ]
    }
   ],
   "source": [
    "def countingValleys(n, s):\n",
    "    seaLevel = 0\n",
    "    valleys = 0\n",
    "    [seaLevel := seaLevel+1 for i in range(n) if s[i] == \"U\" ]\n",
    "    return valleys\n",
    "path = ['U','D','D','D','U','D','U','U']\n",
    "print(countingValleys(8, path))"
   ]
  },
  {
   "cell_type": "code",
   "execution_count": 4,
   "metadata": {},
   "outputs": [
    {
     "data": {
      "text/plain": [
       "654321"
      ]
     },
     "execution_count": 4,
     "metadata": {},
     "output_type": "execute_result"
    }
   ],
   "source": [
    "num = 123456\n",
    "num1= int(str(num)[::-1])\n",
    "num1\n"
   ]
  },
  {
   "cell_type": "code",
   "execution_count": 7,
   "metadata": {},
   "outputs": [
    {
     "data": {
      "text/plain": [
       "']6 ,5 ,4 ,3 ,2 ,1['"
      ]
     },
     "execution_count": 7,
     "metadata": {},
     "output_type": "execute_result"
    }
   ],
   "source": [
    "num = [1,2,3,4,5,6]\n",
    "num1= str(num)[::-1]\n",
    "num1\n"
   ]
  },
  {
   "cell_type": "code",
   "execution_count": 9,
   "metadata": {},
   "outputs": [],
   "source": [
    "def mySqrt(x):\n",
    "        \"\"\"\n",
    "        :type x: int\n",
    "        :rtype: int\n",
    "        \"\"\"\n",
    "        L, R = 1, x\n",
    "        while L <= R:\n",
    "            mid = L + (R-L)//2\n",
    "            if mid*mid > x:\n",
    "                R = mid-1\n",
    "            elif mid*mid < x:\n",
    "                L = mid + 1\n",
    "            else:\n",
    "                return mid\n",
    "        return R"
   ]
  },
  {
   "cell_type": "code",
   "execution_count": 8,
   "metadata": {},
   "outputs": [
    {
     "data": {
      "text/plain": [
       "3"
      ]
     },
     "execution_count": 8,
     "metadata": {},
     "output_type": "execute_result"
    }
   ],
   "source": [
    "mySqrt(9)"
   ]
  },
  {
   "cell_type": "code",
   "execution_count": 50,
   "metadata": {},
   "outputs": [
    {
     "name": "stdout",
     "output_type": "stream",
     "text": [
      "[3, 4]\n"
     ]
    }
   ],
   "source": [
    "def circularArrayRotation(a, k, queries):\n",
    "    # Write your code here\n",
    "    k = k%len(a)\n",
    "    last_elm = a[-k:]\n",
    "    first_elm = a[:-k]\n",
    "    new_a = last_elm + first_elm\n",
    "    query_list = []\n",
    "    for i in queries:\n",
    "        query_list.append(new_a[i])\n",
    "    return query_list\n",
    "\n",
    "print(circularArrayRotation([3,4,5], 1, [1,2]))\n",
    "    "
   ]
  },
  {
   "cell_type": "code",
   "execution_count": 37,
   "metadata": {},
   "outputs": [
    {
     "data": {
      "text/plain": [
       "[5]"
      ]
     },
     "execution_count": 37,
     "metadata": {},
     "output_type": "execute_result"
    }
   ],
   "source": [
    "a = [3,4,5]\n",
    "a[-1:]"
   ]
  },
  {
   "cell_type": "code",
   "execution_count": 31,
   "metadata": {},
   "outputs": [
    {
     "name": "stdout",
     "output_type": "stream",
     "text": [
      "[5, 2]\n"
     ]
    }
   ],
   "source": [
    "class ICPC:\n",
    "    def normalize(self, topic):\n",
    "        topic_list = []\n",
    "        for i in range(len(topic)):\n",
    "            temp_list = []\n",
    "            for j in range(len(topic[i])):\n",
    "                if topic[i][j] == '1':\n",
    "                    temp_list.append(j+1)\n",
    "                else:\n",
    "                    temp_list.append(0)\n",
    "            topic_list.append(temp_list)\n",
    "            temp_list = []\n",
    "        return topic_list\n",
    "    def findPair(self, topic):\n",
    "        max_known_topic = 0\n",
    "        max_cnt = 1\n",
    "        for i in range(len(topic)-1):\n",
    "            for j in range(i+1, len(topic)):\n",
    "                if max_known_topic < len(set(topic[i]+topic[j])) - 1:\n",
    "                    max_known_topic = len(set(topic[i]+topic[j])) - 1\n",
    "                elif max_known_topic == len(set(topic[i]+topic[j])) - 1:\n",
    "                    max_cnt +=1\n",
    "        \n",
    "        return [max_known_topic, max_cnt]\n",
    "\n",
    "\n",
    "topic = ['10101', '11100', '11010', '00101']   \n",
    "icpc = ICPC()\n",
    "topic_ = icpc.normalize(topic)\n",
    "print(icpc.findPair(topic_))\n",
    "\n"
   ]
  },
  {
   "cell_type": "code",
   "execution_count": 1,
   "metadata": {},
   "outputs": [
    {
     "data": {
      "text/plain": [
       "1"
      ]
     },
     "execution_count": 1,
     "metadata": {},
     "output_type": "execute_result"
    }
   ],
   "source": [
    "27%26"
   ]
  },
  {
   "cell_type": "code",
   "execution_count": 1,
   "metadata": {},
   "outputs": [
    {
     "data": {
      "text/plain": [
       "3.1622776601683795"
      ]
     },
     "execution_count": 1,
     "metadata": {},
     "output_type": "execute_result"
    }
   ],
   "source": [
    "import math\n",
    "math.sqrt(10)"
   ]
  },
  {
   "cell_type": "code",
   "execution_count": 5,
   "metadata": {},
   "outputs": [
    {
     "data": {
      "text/plain": [
       "4.123105625617661"
      ]
     },
     "execution_count": 5,
     "metadata": {},
     "output_type": "execute_result"
    }
   ],
   "source": [
    "17**0.5"
   ]
  }
 ],
 "metadata": {
  "kernelspec": {
   "display_name": "Python 3",
   "language": "python",
   "name": "python3"
  },
  "language_info": {
   "codemirror_mode": {
    "name": "ipython",
    "version": 3
   },
   "file_extension": ".py",
   "mimetype": "text/x-python",
   "name": "python",
   "nbconvert_exporter": "python",
   "pygments_lexer": "ipython3",
   "version": "3.10.10"
  },
  "orig_nbformat": 4,
  "vscode": {
   "interpreter": {
    "hash": "f8048d823ac758c079b9f29ef30bbbc9b1138746b4add2d8fb5759ec4a242e2c"
   }
  }
 },
 "nbformat": 4,
 "nbformat_minor": 2
}
