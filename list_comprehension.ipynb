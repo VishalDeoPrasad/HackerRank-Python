{
 "cells": [
  {
   "cell_type": "code",
   "execution_count": 2,
   "metadata": {},
   "outputs": [
    {
     "name": "stdout",
     "output_type": "stream",
     "text": [
      "yes\n",
      "no\n",
      "idle\n",
      "idle\n",
      "idle\n"
     ]
    }
   ],
   "source": [
    "l = [1, 2, 3, 4, 5]\n",
    "\n",
    "for values in l:\n",
    "    if values==1:\n",
    "        print ('yes')\n",
    "    elif values==2:\n",
    "        print ('no')\n",
    "    else:\n",
    "        print ('idle')"
   ]
  },
  {
   "cell_type": "code",
   "execution_count": 13,
   "metadata": {},
   "outputs": [
    {
     "data": {
      "text/plain": [
       "['yes']"
      ]
     },
     "execution_count": 13,
     "metadata": {},
     "output_type": "execute_result"
    }
   ],
   "source": [
    "['yes' for value in l if value == 1]"
   ]
  },
  {
   "cell_type": "code",
   "execution_count": 14,
   "metadata": {},
   "outputs": [
    {
     "data": {
      "text/plain": [
       "['yes', 'NO', 'NO', 'NO', 'NO']"
      ]
     },
     "execution_count": 14,
     "metadata": {},
     "output_type": "execute_result"
    }
   ],
   "source": [
    "['yes' if value == 1 else \"NO\" for value in l]"
   ]
  },
  {
   "cell_type": "code",
   "execution_count": 19,
   "metadata": {},
   "outputs": [
    {
     "data": {
      "text/plain": [
       "['yes', 'NO', 'idle', 'idle', 'idle']"
      ]
     },
     "execution_count": 19,
     "metadata": {},
     "output_type": "execute_result"
    }
   ],
   "source": [
    "['yes' if value == 1 else \"NO\" if value == 2 else \"idle\" for value in l]"
   ]
  },
  {
   "cell_type": "code",
   "execution_count": 20,
   "metadata": {},
   "outputs": [
    {
     "name": "stdout",
     "output_type": "stream",
     "text": [
      "[1, 1]\n"
     ]
    }
   ],
   "source": [
    "def breakingRecords(scores):\n",
    "    # Write your code here\n",
    "    min_score = scores[0]\n",
    "    max_score = scores[0]\n",
    "    min_score_broke = 0\n",
    "    max_score_broke = 0\n",
    "    for score in scores:\n",
    "        if score < min_score:\n",
    "            min_score = score\n",
    "            min_score_broke += 1\n",
    "        elif score > max_score:\n",
    "            max_score = score\n",
    "            max_score_broke += 1\n",
    "    return [max_score_broke, min_score_broke]\n",
    "\n",
    "print(breakingRecords([12, 24, 10, 24]))"
   ]
  },
  {
   "cell_type": "code",
   "execution_count": 2,
   "metadata": {},
   "outputs": [
    {
     "name": "stdout",
     "output_type": "stream",
     "text": [
      "1\n"
     ]
    }
   ],
   "source": [
    "def countingValleys(n, s):\n",
    "    seaLevel = 0\n",
    "    valleys = 0\n",
    "    for i in range(n):\n",
    "        if s[i] == \"U\":\n",
    "            seaLevel+=1\n",
    "        if s[i] == \"D\":\n",
    "            seaLevel-=1\n",
    "\n",
    "        if seaLevel == 0 and s[i]==\"U\":\n",
    "            valleys+=1\n",
    "\n",
    "    return valleys\n",
    "path = ['U','D','D','D','U','D','U','U']\n",
    "print(countingValleys(8, path))"
   ]
  },
  {
   "cell_type": "code",
   "execution_count": 15,
   "metadata": {},
   "outputs": [
    {
     "data": {
      "text/plain": [
       "[1, 2]"
      ]
     },
     "execution_count": 15,
     "metadata": {},
     "output_type": "execute_result"
    }
   ],
   "source": [
    "nums = [3,2,4]\n",
    "target = 6\n",
    "pair = []\n",
    "result = [pair.append([i, j]) for i in range(len(nums)-1) for j in range(i+1, len(nums))  if nums[i]+nums[j] == target]\n",
    "pair[0]"
   ]
  },
  {
   "cell_type": "code",
   "execution_count": 1,
   "metadata": {},
   "outputs": [],
   "source": [
    "def getMoneySpent(keyboards, drives, b):\n",
    "    max_price = 0 #\n",
    "    [max_price := k+d for k in keyboards for d in drives if (k+d) > max_price and (k+d) <= b]\n",
    "    return max_price if max_price != 0 else -1 "
   ]
  },
  {
   "cell_type": "code",
   "execution_count": 4,
   "metadata": {},
   "outputs": [
    {
     "name": "stdout",
     "output_type": "stream",
     "text": [
      "2\n"
     ]
    }
   ],
   "source": [
    "def isBinary1(str):\n",
    "    #code here\n",
    "    for b in str:\n",
    "        if b not in ['0','1']:\n",
    "            return 0\n",
    "    return 1"
   ]
  },
  {
   "cell_type": "code",
   "execution_count": 3,
   "metadata": {},
   "outputs": [],
   "source": [
    "my_list = [1,2,3,6]\n",
    "\n",
    "i = next((elem for elem in my_list if elem == 2), None)"
   ]
  },
  {
   "cell_type": "code",
   "execution_count": 10,
   "metadata": {},
   "outputs": [
    {
     "name": "stdout",
     "output_type": "stream",
     "text": [
      "0\n"
     ]
    }
   ],
   "source": [
    "str = \"01111001101011003\"\n",
    "i = next((0 for b in str if b not in ['0','1']), 1)\n",
    "print(i)"
   ]
  }
 ],
 "metadata": {
  "kernelspec": {
   "display_name": "Python 3",
   "language": "python",
   "name": "python3"
  },
  "language_info": {
   "codemirror_mode": {
    "name": "ipython",
    "version": 3
   },
   "file_extension": ".py",
   "mimetype": "text/x-python",
   "name": "python",
   "nbconvert_exporter": "python",
   "pygments_lexer": "ipython3",
   "version": "3.10.9"
  },
  "orig_nbformat": 4,
  "vscode": {
   "interpreter": {
    "hash": "f8048d823ac758c079b9f29ef30bbbc9b1138746b4add2d8fb5759ec4a242e2c"
   }
  }
 },
 "nbformat": 4,
 "nbformat_minor": 2
}
